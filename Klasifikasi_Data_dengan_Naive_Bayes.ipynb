{
  "nbformat": 4,
  "nbformat_minor": 0,
  "metadata": {
    "colab": {
      "name": "Klasifikasi Data dengan Naive Bayes.ipynb",
      "provenance": [],
      "authorship_tag": "ABX9TyPCq/77RnGSocITkkNTOSmq",
      "include_colab_link": true
    },
    "kernelspec": {
      "name": "python3",
      "display_name": "Python 3"
    },
    "language_info": {
      "name": "python"
    }
  },
  "cells": [
    {
      "cell_type": "markdown",
      "metadata": {
        "id": "view-in-github",
        "colab_type": "text"
      },
      "source": [
        "<a href=\"https://colab.research.google.com/github/megahadi/Data-Mining/blob/main/Klasifikasi_Data_dengan_Naive_Bayes.ipynb\" target=\"_parent\"><img src=\"https://colab.research.google.com/assets/colab-badge.svg\" alt=\"Open In Colab\"/></a>"
      ]
    },
    {
      "cell_type": "code",
      "metadata": {
        "id": "mbYk5KE3KtY2"
      },
      "source": [
        "import numpy as np\n",
        "import matplotlib.pyplot as plt\n",
        "import pandas as pd"
      ],
      "execution_count": 86,
      "outputs": []
    },
    {
      "cell_type": "code",
      "metadata": {
        "id": "tNCnfJk1LpS4"
      },
      "source": [
        "dataset = pd.read_csv(\"nilai-rata-rata-hasil-survei-kepuasan-masyarakat..csv\")\n",
        "x = dataset.iloc[:,[1,2]].values\n",
        "y = dataset.iloc[:,3].values"
      ],
      "execution_count": 87,
      "outputs": []
    },
    {
      "cell_type": "code",
      "metadata": {
        "colab": {
          "base_uri": "https://localhost:8080/"
        },
        "id": "TZVUV4zmMI_e",
        "outputId": "26fc0430-ec8a-44af-cf22-63baa56fa862"
      },
      "source": [
        "print(x)"
      ],
      "execution_count": 88,
      "outputs": [
        {
          "output_type": "stream",
          "text": [
            "[[ 3.62 90.57]\n",
            " [ 3.19 79.81]\n",
            " [ 3.26 81.39]\n",
            " [ 3.65 91.07]\n",
            " [ 3.64 90.91]\n",
            " [ 3.65 91.16]\n",
            " [ 3.6  90.11]\n",
            " [ 3.6  91.04]\n",
            " [ 3.72 93.08]\n",
            " [ 3.79 94.8 ]\n",
            " [ 3.8  95.06]\n",
            " [ 3.26 81.73]\n",
            " [ 3.61 90.24]\n",
            " [ 3.63 90.66]\n",
            " [ 3.44 86.08]\n",
            " [ 3.65 91.31]\n",
            " [ 3.72 92.89]\n",
            " [ 3.51 87.81]\n",
            " [ 3.4  84.98]\n",
            " [ 3.86 96.53]\n",
            " [ 3.61 90.29]\n",
            " [ 3.49 87.3 ]\n",
            " [ 3.67 91.74]\n",
            " [ 3.45 86.36]\n",
            " [ 3.63 90.73]\n",
            " [ 3.38 69.25]\n",
            " [ 3.71 92.76]\n",
            " [ 3.78 94.39]\n",
            " [ 3.67 91.67]\n",
            " [ 3.63 90.7 ]\n",
            " [ 3.38 84.74]\n",
            " [ 3.64 91.02]\n",
            " [ 3.61 90.32]\n",
            " [ 3.35 83.67]\n",
            " [ 3.61 90.23]\n",
            " [ 3.72 92.97]\n",
            " [ 3.67 91.86]\n",
            " [ 3.76 93.97]\n",
            " [ 3.62 90.52]\n",
            " [ 3.67 91.8 ]\n",
            " [ 3.61 90.34]\n",
            " [ 3.63 90.77]\n",
            " [ 3.54 88.49]\n",
            " [ 3.61 90.19]\n",
            " [ 3.61 90.34]\n",
            " [ 3.65 91.11]\n",
            " [ 3.85 96.21]\n",
            " [ 3.53 88.16]\n",
            " [ 3.59 89.87]\n",
            " [ 3.54 88.52]\n",
            " [ 3.42 85.41]\n",
            " [ 3.6  90.08]\n",
            " [ 3.44 85.95]\n",
            " [ 3.53 88.32]]\n"
          ],
          "name": "stdout"
        }
      ]
    },
    {
      "cell_type": "code",
      "metadata": {
        "colab": {
          "base_uri": "https://localhost:8080/"
        },
        "id": "1eANSe-tMQZ2",
        "outputId": "5d28cf56-fe77-49fa-8580-85dab595cff1"
      },
      "source": [
        "print(y)"
      ],
      "execution_count": 89,
      "outputs": [
        {
          "output_type": "stream",
          "text": [
            "[1 0 0 1 1 1 1 1 1 1 1 0 1 1 0 1 1 0 0 1 1 0 1 0 1 0 1 1 1 1 0 1 1 0 1 1 1\n",
            " 1 1 1 1 1 1 1 1 1 1 0 1 1 0 1 0 1]\n"
          ],
          "name": "stdout"
        }
      ]
    },
    {
      "cell_type": "code",
      "metadata": {
        "id": "2Ho52B2jMjHW"
      },
      "source": [
        "from sklearn.model_selection import train_test_split\n",
        "x_train, x_test, y_train, y_test = train_test_split(x, y, test_size=0.25, random_state=0)"
      ],
      "execution_count": 90,
      "outputs": []
    },
    {
      "cell_type": "code",
      "metadata": {
        "colab": {
          "base_uri": "https://localhost:8080/"
        },
        "id": "25J1ALI6M7Zn",
        "outputId": "d8d10107-2a53-4ab4-c742-a12379438a0f"
      },
      "source": [
        "print(x_train)"
      ],
      "execution_count": 91,
      "outputs": [
        {
          "output_type": "stream",
          "text": [
            "[[ 3.64 91.02]\n",
            " [ 3.62 90.52]\n",
            " [ 3.76 93.97]\n",
            " [ 3.6  91.04]\n",
            " [ 3.44 86.08]\n",
            " [ 3.78 94.39]\n",
            " [ 3.72 92.97]\n",
            " [ 3.54 88.52]\n",
            " [ 3.4  84.98]\n",
            " [ 3.6  90.08]\n",
            " [ 3.61 90.23]\n",
            " [ 3.65 91.31]\n",
            " [ 3.65 91.16]\n",
            " [ 3.63 90.7 ]\n",
            " [ 3.72 92.89]\n",
            " [ 3.85 96.21]\n",
            " [ 3.61 90.29]\n",
            " [ 3.44 85.95]\n",
            " [ 3.72 93.08]\n",
            " [ 3.63 90.66]\n",
            " [ 3.38 69.25]\n",
            " [ 3.51 87.81]\n",
            " [ 3.61 90.34]\n",
            " [ 3.61 90.19]\n",
            " [ 3.19 79.81]\n",
            " [ 3.61 90.24]\n",
            " [ 3.63 90.77]\n",
            " [ 3.63 90.73]\n",
            " [ 3.6  90.11]\n",
            " [ 3.45 86.36]\n",
            " [ 3.67 91.86]\n",
            " [ 3.49 87.3 ]\n",
            " [ 3.86 96.53]\n",
            " [ 3.79 94.8 ]\n",
            " [ 3.67 91.8 ]\n",
            " [ 3.42 85.41]\n",
            " [ 3.65 91.07]\n",
            " [ 3.62 90.57]\n",
            " [ 3.53 88.16]\n",
            " [ 3.61 90.34]]\n"
          ],
          "name": "stdout"
        }
      ]
    },
    {
      "cell_type": "code",
      "metadata": {
        "colab": {
          "base_uri": "https://localhost:8080/"
        },
        "id": "75M0MFI_Nlvg",
        "outputId": "1e60805c-8e9f-4c96-8adb-bcb586aad7f6"
      },
      "source": [
        "print(x_test)"
      ],
      "execution_count": 92,
      "outputs": [
        {
          "output_type": "stream",
          "text": [
            "[[ 3.53 88.32]\n",
            " [ 3.35 83.67]\n",
            " [ 3.59 89.87]\n",
            " [ 3.71 92.76]\n",
            " [ 3.26 81.73]\n",
            " [ 3.26 81.39]\n",
            " [ 3.61 90.32]\n",
            " [ 3.54 88.49]\n",
            " [ 3.65 91.11]\n",
            " [ 3.38 84.74]\n",
            " [ 3.64 90.91]\n",
            " [ 3.8  95.06]\n",
            " [ 3.67 91.67]\n",
            " [ 3.67 91.74]]\n"
          ],
          "name": "stdout"
        }
      ]
    },
    {
      "cell_type": "code",
      "metadata": {
        "colab": {
          "base_uri": "https://localhost:8080/"
        },
        "id": "iRQdaO9JNKn5",
        "outputId": "1dbc20f0-f6ca-4544-abb6-a2837133e608"
      },
      "source": [
        "print(y_train)"
      ],
      "execution_count": 93,
      "outputs": [
        {
          "output_type": "stream",
          "text": [
            "[1 1 1 1 0 1 1 1 0 1 1 1 1 1 1 1 1 0 1 1 0 0 1 1 0 1 1 1 1 0 1 0 1 1 1 0 1\n",
            " 1 0 1]\n"
          ],
          "name": "stdout"
        }
      ]
    },
    {
      "cell_type": "code",
      "metadata": {
        "colab": {
          "base_uri": "https://localhost:8080/"
        },
        "id": "MiGBP-owNrR-",
        "outputId": "ce65fe43-7918-45ae-8a63-f1f47f15a691"
      },
      "source": [
        "print(y_test)"
      ],
      "execution_count": 94,
      "outputs": [
        {
          "output_type": "stream",
          "text": [
            "[1 0 1 1 0 0 1 1 1 0 1 1 1 1]\n"
          ],
          "name": "stdout"
        }
      ]
    },
    {
      "cell_type": "code",
      "metadata": {
        "id": "eK3zFsApNyWk"
      },
      "source": [
        "from sklearn.preprocessing import StandardScaler\n",
        "sc = StandardScaler()\n",
        "x_train = sc.fit_transform(x_train)\n",
        "x_test = sc.transform(x_test)"
      ],
      "execution_count": 95,
      "outputs": []
    },
    {
      "cell_type": "code",
      "metadata": {
        "colab": {
          "base_uri": "https://localhost:8080/"
        },
        "id": "8hMThrY2OIj-",
        "outputId": "6563b8c8-f30d-4501-b05e-ac52f71b933e"
      },
      "source": [
        "print(x_train)"
      ],
      "execution_count": 96,
      "outputs": [
        {
          "output_type": "stream",
          "text": [
            "[[ 0.27950891  0.2827944 ]\n",
            " [ 0.12635334  0.17254317]\n",
            " [ 1.1984423   0.93327664]\n",
            " [-0.02680222  0.28720445]\n",
            " [-1.25204675 -0.80648773]\n",
            " [ 1.35159787  1.02588768]\n",
            " [ 0.89213117  0.71277419]\n",
            " [-0.48626892 -0.26846174]\n",
            " [-1.55835788 -1.04904043]\n",
            " [-0.02680222  0.07552209]\n",
            " [ 0.04977556  0.10859746]\n",
            " [ 0.35608669  0.34674011]\n",
            " [ 0.35608669  0.31366474]\n",
            " [ 0.20293112  0.21223361]\n",
            " [ 0.89213117  0.69513399]\n",
            " [ 1.88764234  1.42720214]\n",
            " [ 0.04977556  0.12182761]\n",
            " [-1.25204675 -0.83515305]\n",
            " [ 0.89213117  0.73702946]\n",
            " [ 0.20293112  0.20341352]\n",
            " [-1.71151344 -4.51754406]\n",
            " [-0.71600227 -0.42501848]\n",
            " [ 0.04977556  0.13285273]\n",
            " [ 0.04977556  0.09977736]\n",
            " [-3.16649132 -2.18903813]\n",
            " [ 0.04977556  0.11080248]\n",
            " [ 0.20293112  0.22766879]\n",
            " [ 0.20293112  0.21884869]\n",
            " [-0.02680222  0.08213716]\n",
            " [-1.17546896 -0.74474704]\n",
            " [ 0.50924226  0.46801646]\n",
            " [-0.86915783 -0.53747474]\n",
            " [ 1.96422013  1.49776293]\n",
            " [ 1.42817565  1.11629368]\n",
            " [ 0.50924226  0.45478631]\n",
            " [-1.40520231 -0.95422438]\n",
            " [ 0.35608669  0.29381952]\n",
            " [ 0.12635334  0.18356829]\n",
            " [-0.5628467  -0.34784262]\n",
            " [ 0.04977556  0.13285273]]\n"
          ],
          "name": "stdout"
        }
      ]
    },
    {
      "cell_type": "code",
      "metadata": {
        "colab": {
          "base_uri": "https://localhost:8080/"
        },
        "id": "tgaWMlubOW9d",
        "outputId": "6ebadbb2-5334-4a96-9c62-f5a13fd8277c"
      },
      "source": [
        "print(x_test)"
      ],
      "execution_count": 97,
      "outputs": [
        {
          "output_type": "stream",
          "text": [
            "[[-0.5628467  -0.31256223]\n",
            " [-1.94124679 -1.33789865]\n",
            " [-0.10338001  0.02921658]\n",
            " [ 0.81555339  0.66646867]\n",
            " [-2.63044684 -1.76567341]\n",
            " [-2.63044684 -1.84064425]\n",
            " [ 0.04977556  0.12844268]\n",
            " [-0.48626892 -0.27507681]\n",
            " [ 0.35608669  0.30263962]\n",
            " [-1.71151344 -1.10196102]\n",
            " [ 0.27950891  0.25853913]\n",
            " [ 1.50475343  1.17362432]\n",
            " [ 0.50924226  0.426121  ]\n",
            " [ 0.50924226  0.44155617]]\n"
          ],
          "name": "stdout"
        }
      ]
    },
    {
      "cell_type": "code",
      "metadata": {
        "colab": {
          "base_uri": "https://localhost:8080/"
        },
        "id": "sZWdAl2yOZtA",
        "outputId": "e4e779a4-390b-4f82-b210-ede297e3fb30"
      },
      "source": [
        "from sklearn.naive_bayes import GaussianNB\n",
        "classifier = GaussianNB()\n",
        "classifier.fit(x_train, y_train)"
      ],
      "execution_count": 98,
      "outputs": [
        {
          "output_type": "execute_result",
          "data": {
            "text/plain": [
              "GaussianNB(priors=None, var_smoothing=1e-09)"
            ]
          },
          "metadata": {
            "tags": []
          },
          "execution_count": 98
        }
      ]
    },
    {
      "cell_type": "code",
      "metadata": {
        "id": "AsEZ1h3iPOPh"
      },
      "source": [
        "y_pred = classifier.predict(x_test)"
      ],
      "execution_count": 99,
      "outputs": []
    },
    {
      "cell_type": "code",
      "metadata": {
        "colab": {
          "base_uri": "https://localhost:8080/"
        },
        "id": "Rgj8zx26PWva",
        "outputId": "56505ed9-90a2-4755-a651-62120375c9b7"
      },
      "source": [
        "from sklearn.metrics import confusion_matrix\n",
        "cm = confusion_matrix(y_test, y_pred)\n",
        "print(cm)"
      ],
      "execution_count": 100,
      "outputs": [
        {
          "output_type": "stream",
          "text": [
            "[[ 4  0]\n",
            " [ 0 10]]\n"
          ],
          "name": "stdout"
        }
      ]
    },
    {
      "cell_type": "code",
      "metadata": {
        "colab": {
          "base_uri": "https://localhost:8080/",
          "height": 349
        },
        "id": "E-RwVN-kQRhf",
        "outputId": "2ed3ff4f-2374-481b-e5c2-1e1ec3979f83"
      },
      "source": [
        "from matplotlib.colors import ListedColormap\n",
        "x_set, y_set = x_train, y_train\n",
        "x1, x2 = np.meshgrid(np.arange(start = x_set[:,0].min()-1, stop = x_set[:, 0].max() + 1, step = 0.01), \n",
        "                     np.arange(start = x_set[:,1].min()-1, stop = x_set[:, 0].max() + 1, step = 0.01))\n",
        "plt.contour(x1, x2, classifier.predict(np.array([x1.ravel(), x2.ravel()]).T).reshape(x1.shape),\n",
        "            alpha = 0.75, cmap = ListedColormap(('red', 'green')))\n",
        "plt.xlim(x1.min(), x1.max())\n",
        "plt.xlim(x2.min(), x2.max())\n",
        "for i, j in enumerate (np.unique(y_set)):\n",
        "  plt.scatter(x_set[y_set == j, 0], x_set[y_set == j,1],\n",
        "              c = ListedColormap(('red', 'green'))(i), label = j)\n",
        "plt.title('Klasifikasi data dengan Naive Bayes (Data training)')\n",
        "plt.xlabel('Nilai rata-rata')\n",
        "plt.ylabel('Nilai SKM')\n",
        "plt.legend()\n",
        "plt.show()"
      ],
      "execution_count": 101,
      "outputs": [
        {
          "output_type": "stream",
          "text": [
            "*c* argument looks like a single numeric RGB or RGBA sequence, which should be avoided as value-mapping will have precedence in case its length matches with *x* & *y*.  Please use the *color* keyword-argument or provide a 2-D array with a single row if you intend to specify the same RGB or RGBA value for all points.\n",
            "*c* argument looks like a single numeric RGB or RGBA sequence, which should be avoided as value-mapping will have precedence in case its length matches with *x* & *y*.  Please use the *color* keyword-argument or provide a 2-D array with a single row if you intend to specify the same RGB or RGBA value for all points.\n"
          ],
          "name": "stderr"
        },
        {
          "output_type": "display_data",
          "data": {
            "image/png": "[encoded data removed]",
            "text/plain": [
              "<Figure size 432x288 with 1 Axes>"
            ]
          },
          "metadata": {
            "tags": [],
            "needs_background": "light"
          }
        }
      ]
    }
  ]
}