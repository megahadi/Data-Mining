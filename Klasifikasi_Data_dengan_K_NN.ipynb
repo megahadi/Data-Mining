{
  "nbformat": 4,
  "nbformat_minor": 0,
  "metadata": {
    "colab": {
      "name": "Klasifikasi Data dengan K-NN.ipynb",
      "provenance": [],
      "collapsed_sections": [],
      "authorship_tag": "ABX9TyNtDs5w/5T+SltgFTqWBRB0",
      "include_colab_link": true
    },
    "kernelspec": {
      "name": "python3",
      "display_name": "Python 3"
    },
    "language_info": {
      "name": "python"
    }
  },
  "cells": [
    {
      "cell_type": "markdown",
      "metadata": {
        "id": "view-in-github",
        "colab_type": "text"
      },
      "source": [
        "<a href=\"https://colab.research.google.com/github/megahadi/Data-Mining/blob/main/Klasifikasi_Data_dengan_K_NN.ipynb\" target=\"_parent\"><img src=\"https://colab.research.google.com/assets/colab-badge.svg\" alt=\"Open In Colab\"/></a>"
      ]
    },
    {
      "cell_type": "code",
      "metadata": {
        "id": "9AkPZ5lOWKe2"
      },
      "source": [
        "import numpy as np\n",
        "import matplotlib.pyplot as plt\n",
        "import pandas as pd\n"
      ],
      "execution_count": 1,
      "outputs": []
    },
    {
      "cell_type": "code",
      "metadata": {
        "id": "FQ9OjUw7Wo9_"
      },
      "source": [
        "dataset = pd.read_csv(\"nilai-rata-rata-hasil-survei-kepuasan-masyarakat..csv\")"
      ],
      "execution_count": 3,
      "outputs": []
    },
    {
      "cell_type": "code",
      "metadata": {
        "colab": {
          "base_uri": "https://localhost:8080/",
          "height": 204
        },
        "id": "3wWn_kkiW5kM",
        "outputId": "585a6908-070e-4c47-fd92-992bdbcb0224"
      },
      "source": [
        "dataset.head()"
      ],
      "execution_count": 4,
      "outputs": [
        {
          "output_type": "execute_result",
          "data": {
            "text/html": [
              "<div>\n",
              "<style scoped>\n",
              "    .dataframe tbody tr th:only-of-type {\n",
              "        vertical-align: middle;\n",
              "    }\n",
              "\n",
              "    .dataframe tbody tr th {\n",
              "        vertical-align: top;\n",
              "    }\n",
              "\n",
              "    .dataframe thead th {\n",
              "        text-align: right;\n",
              "    }\n",
              "</style>\n",
              "<table border=\"1\" class=\"dataframe\">\n",
              "  <thead>\n",
              "    <tr style=\"text-align: right;\">\n",
              "      <th></th>\n",
              "      <th>kelurahan</th>\n",
              "      <th>nilai_rata_rata</th>\n",
              "      <th>nilai__skm</th>\n",
              "      <th>mutu_pelayanan</th>\n",
              "      <th>keterangan</th>\n",
              "    </tr>\n",
              "  </thead>\n",
              "  <tbody>\n",
              "    <tr>\n",
              "      <th>0</th>\n",
              "      <td>Kayu Manis</td>\n",
              "      <td>3.62</td>\n",
              "      <td>90.57</td>\n",
              "      <td>1</td>\n",
              "      <td>SANGAT BAIK</td>\n",
              "    </tr>\n",
              "    <tr>\n",
              "      <th>1</th>\n",
              "      <td>Kebon Manggis</td>\n",
              "      <td>3.19</td>\n",
              "      <td>79.81</td>\n",
              "      <td>0</td>\n",
              "      <td>BAIK</td>\n",
              "    </tr>\n",
              "    <tr>\n",
              "      <th>2</th>\n",
              "      <td>Palmeriam</td>\n",
              "      <td>3.26</td>\n",
              "      <td>81.39</td>\n",
              "      <td>0</td>\n",
              "      <td>BAIK</td>\n",
              "    </tr>\n",
              "    <tr>\n",
              "      <th>3</th>\n",
              "      <td>Pisangan Baru</td>\n",
              "      <td>3.65</td>\n",
              "      <td>91.07</td>\n",
              "      <td>1</td>\n",
              "      <td>SANGAT BAIK</td>\n",
              "    </tr>\n",
              "    <tr>\n",
              "      <th>4</th>\n",
              "      <td>Utan Kayu Selatan</td>\n",
              "      <td>3.64</td>\n",
              "      <td>90.91</td>\n",
              "      <td>1</td>\n",
              "      <td>SANGAT BAIK</td>\n",
              "    </tr>\n",
              "  </tbody>\n",
              "</table>\n",
              "</div>"
            ],
            "text/plain": [
              "            kelurahan  nilai_rata_rata  nilai__skm  mutu_pelayanan   keterangan\n",
              "0          Kayu Manis             3.62       90.57               1  SANGAT BAIK\n",
              "1       Kebon Manggis             3.19       79.81               0         BAIK\n",
              "2           Palmeriam             3.26       81.39               0         BAIK\n",
              "3       Pisangan Baru             3.65       91.07               1  SANGAT BAIK\n",
              "4  Utan Kayu Selatan              3.64       90.91               1  SANGAT BAIK"
            ]
          },
          "metadata": {
            "tags": []
          },
          "execution_count": 4
        }
      ]
    },
    {
      "cell_type": "code",
      "metadata": {
        "id": "cGefJaQLXSsE"
      },
      "source": [
        "x = dataset.iloc[:,[1,2]].values\n",
        "y = dataset.iloc[:,3].values"
      ],
      "execution_count": 12,
      "outputs": []
    },
    {
      "cell_type": "code",
      "metadata": {
        "colab": {
          "base_uri": "https://localhost:8080/"
        },
        "id": "qT3M0NO-XqOf",
        "outputId": "34879e9f-0767-441a-95df-559e0a8e7965"
      },
      "source": [
        "print(x)"
      ],
      "execution_count": 8,
      "outputs": [
        {
          "output_type": "stream",
          "text": [
            "[[ 3.62 90.57]\n",
            " [ 3.19 79.81]\n",
            " [ 3.26 81.39]\n",
            " [ 3.65 91.07]\n",
            " [ 3.64 90.91]\n",
            " [ 3.65 91.16]\n",
            " [ 3.6  90.11]\n",
            " [ 3.6  91.04]\n",
            " [ 3.72 93.08]\n",
            " [ 3.79 94.8 ]\n",
            " [ 3.8  95.06]\n",
            " [ 3.26 81.73]\n",
            " [ 3.61 90.24]\n",
            " [ 3.63 90.66]\n",
            " [ 3.44 86.08]\n",
            " [ 3.65 91.31]\n",
            " [ 3.72 92.89]\n",
            " [ 3.51 87.81]\n",
            " [ 3.4  84.98]\n",
            " [ 3.86 96.53]\n",
            " [ 3.61 90.29]\n",
            " [ 3.49 87.3 ]\n",
            " [ 3.67 91.74]\n",
            " [ 3.45 86.36]\n",
            " [ 3.63 90.73]\n",
            " [ 3.38 69.25]\n",
            " [ 3.71 92.76]\n",
            " [ 3.78 94.39]\n",
            " [ 3.67 91.67]\n",
            " [ 3.63 90.7 ]\n",
            " [ 3.38 84.74]\n",
            " [ 3.64 91.02]\n",
            " [ 3.61 90.32]\n",
            " [ 3.35 83.67]\n",
            " [ 3.61 90.23]\n",
            " [ 3.72 92.97]\n",
            " [ 3.67 91.86]\n",
            " [ 3.76 93.97]\n",
            " [ 3.62 90.52]\n",
            " [ 3.67 91.8 ]\n",
            " [ 3.61 90.34]\n",
            " [ 3.63 90.77]\n",
            " [ 3.54 88.49]\n",
            " [ 3.61 90.19]\n",
            " [ 3.61 90.34]\n",
            " [ 3.65 91.11]\n",
            " [ 3.85 96.21]\n",
            " [ 3.53 88.16]\n",
            " [ 3.59 89.87]\n",
            " [ 3.54 88.52]\n",
            " [ 3.42 85.41]\n",
            " [ 3.6  90.08]\n",
            " [ 3.44 85.95]\n",
            " [ 3.53 88.32]]\n"
          ],
          "name": "stdout"
        }
      ]
    },
    {
      "cell_type": "code",
      "metadata": {
        "colab": {
          "base_uri": "https://localhost:8080/"
        },
        "id": "o9XuC1pIX2zw",
        "outputId": "d7f57b82-bb2b-40bc-d994-d5f2cd51aa5b"
      },
      "source": [
        "print(y)"
      ],
      "execution_count": 13,
      "outputs": [
        {
          "output_type": "stream",
          "text": [
            "[1 0 0 1 1 1 1 1 1 1 1 0 1 1 0 1 1 0 0 1 1 0 1 0 1 0 1 1 1 1 0 1 1 0 1 1 1\n",
            " 1 1 1 1 1 1 1 1 1 1 0 1 1 0 1 0 1]\n"
          ],
          "name": "stdout"
        }
      ]
    },
    {
      "cell_type": "code",
      "metadata": {
        "id": "TrsyMPx5YMPv"
      },
      "source": [
        "from sklearn.model_selection import train_test_split\n",
        "x_train, x_test, y_train, y_test = train_test_split(x, y, test_size = 0.25, random_state = 0)"
      ],
      "execution_count": 14,
      "outputs": []
    },
    {
      "cell_type": "code",
      "metadata": {
        "colab": {
          "base_uri": "https://localhost:8080/"
        },
        "id": "kFs0XVG-Ynd2",
        "outputId": "78fcac7c-d531-4cc1-95e2-495e6ee8af1f"
      },
      "source": [
        "len(x_train)"
      ],
      "execution_count": 16,
      "outputs": [
        {
          "output_type": "execute_result",
          "data": {
            "text/plain": [
              "40"
            ]
          },
          "metadata": {
            "tags": []
          },
          "execution_count": 16
        }
      ]
    },
    {
      "cell_type": "code",
      "metadata": {
        "colab": {
          "base_uri": "https://localhost:8080/"
        },
        "id": "jcLR-ZuZY4Z0",
        "outputId": "b1a101f1-5358-4c1e-f900-40ede74ff710"
      },
      "source": [
        "len(x)"
      ],
      "execution_count": 17,
      "outputs": [
        {
          "output_type": "execute_result",
          "data": {
            "text/plain": [
              "54"
            ]
          },
          "metadata": {
            "tags": []
          },
          "execution_count": 17
        }
      ]
    },
    {
      "cell_type": "code",
      "metadata": {
        "colab": {
          "base_uri": "https://localhost:8080/"
        },
        "id": "DU2MQXk1Y7dM",
        "outputId": "54f9f4d9-66c8-4e14-b65c-c20bcc96aa37"
      },
      "source": [
        "len(x_test)"
      ],
      "execution_count": 18,
      "outputs": [
        {
          "output_type": "execute_result",
          "data": {
            "text/plain": [
              "14"
            ]
          },
          "metadata": {
            "tags": []
          },
          "execution_count": 18
        }
      ]
    },
    {
      "cell_type": "code",
      "metadata": {
        "colab": {
          "base_uri": "https://localhost:8080/"
        },
        "id": "iRXslkPCZA_F",
        "outputId": "3264bd2c-ded3-43cf-ad11-aa90d0d63bd6"
      },
      "source": [
        "len(y)"
      ],
      "execution_count": 19,
      "outputs": [
        {
          "output_type": "execute_result",
          "data": {
            "text/plain": [
              "54"
            ]
          },
          "metadata": {
            "tags": []
          },
          "execution_count": 19
        }
      ]
    },
    {
      "cell_type": "code",
      "metadata": {
        "colab": {
          "base_uri": "https://localhost:8080/"
        },
        "id": "Hai1z7AbZCNh",
        "outputId": "edbd453c-90ee-4d15-c06e-04d06d21215a"
      },
      "source": [
        "len(y_train)"
      ],
      "execution_count": 21,
      "outputs": [
        {
          "output_type": "execute_result",
          "data": {
            "text/plain": [
              "40"
            ]
          },
          "metadata": {
            "tags": []
          },
          "execution_count": 21
        }
      ]
    },
    {
      "cell_type": "code",
      "metadata": {
        "colab": {
          "base_uri": "https://localhost:8080/"
        },
        "id": "t8D4AF_PZEX-",
        "outputId": "ea5f9d03-a856-4290-aeb5-3935b0d1aa4f"
      },
      "source": [
        "len(y_test)"
      ],
      "execution_count": 20,
      "outputs": [
        {
          "output_type": "execute_result",
          "data": {
            "text/plain": [
              "14"
            ]
          },
          "metadata": {
            "tags": []
          },
          "execution_count": 20
        }
      ]
    },
    {
      "cell_type": "code",
      "metadata": {
        "id": "hUKh3i9sZJu0"
      },
      "source": [
        "from sklearn.preprocessing import StandardScaler\n",
        "sc = StandardScaler()\n",
        "x_train = sc.fit_transform(x_train)\n",
        "x_test = sc.transform(x_test)"
      ],
      "execution_count": 22,
      "outputs": []
    },
    {
      "cell_type": "code",
      "metadata": {
        "colab": {
          "base_uri": "https://localhost:8080/"
        },
        "id": "acnzIjy3a5_U",
        "outputId": "9c2ad109-304c-4fe7-9cd1-4e9db1700e71"
      },
      "source": [
        "print(x_train)"
      ],
      "execution_count": 23,
      "outputs": [
        {
          "output_type": "stream",
          "text": [
            "[[ 0.27950891  0.2827944 ]\n",
            " [ 0.12635334  0.17254317]\n",
            " [ 1.1984423   0.93327664]\n",
            " [-0.02680222  0.28720445]\n",
            " [-1.25204675 -0.80648773]\n",
            " [ 1.35159787  1.02588768]\n",
            " [ 0.89213117  0.71277419]\n",
            " [-0.48626892 -0.26846174]\n",
            " [-1.55835788 -1.04904043]\n",
            " [-0.02680222  0.07552209]\n",
            " [ 0.04977556  0.10859746]\n",
            " [ 0.35608669  0.34674011]\n",
            " [ 0.35608669  0.31366474]\n",
            " [ 0.20293112  0.21223361]\n",
            " [ 0.89213117  0.69513399]\n",
            " [ 1.88764234  1.42720214]\n",
            " [ 0.04977556  0.12182761]\n",
            " [-1.25204675 -0.83515305]\n",
            " [ 0.89213117  0.73702946]\n",
            " [ 0.20293112  0.20341352]\n",
            " [-1.71151344 -4.51754406]\n",
            " [-0.71600227 -0.42501848]\n",
            " [ 0.04977556  0.13285273]\n",
            " [ 0.04977556  0.09977736]\n",
            " [-3.16649132 -2.18903813]\n",
            " [ 0.04977556  0.11080248]\n",
            " [ 0.20293112  0.22766879]\n",
            " [ 0.20293112  0.21884869]\n",
            " [-0.02680222  0.08213716]\n",
            " [-1.17546896 -0.74474704]\n",
            " [ 0.50924226  0.46801646]\n",
            " [-0.86915783 -0.53747474]\n",
            " [ 1.96422013  1.49776293]\n",
            " [ 1.42817565  1.11629368]\n",
            " [ 0.50924226  0.45478631]\n",
            " [-1.40520231 -0.95422438]\n",
            " [ 0.35608669  0.29381952]\n",
            " [ 0.12635334  0.18356829]\n",
            " [-0.5628467  -0.34784262]\n",
            " [ 0.04977556  0.13285273]]\n"
          ],
          "name": "stdout"
        }
      ]
    },
    {
      "cell_type": "code",
      "metadata": {
        "colab": {
          "base_uri": "https://localhost:8080/"
        },
        "id": "GtH49y8QbFdA",
        "outputId": "8fcd9c9b-16cb-4444-899c-37b154211358"
      },
      "source": [
        "print(x_test)"
      ],
      "execution_count": 24,
      "outputs": [
        {
          "output_type": "stream",
          "text": [
            "[[-0.5628467  -0.31256223]\n",
            " [-1.94124679 -1.33789865]\n",
            " [-0.10338001  0.02921658]\n",
            " [ 0.81555339  0.66646867]\n",
            " [-2.63044684 -1.76567341]\n",
            " [-2.63044684 -1.84064425]\n",
            " [ 0.04977556  0.12844268]\n",
            " [-0.48626892 -0.27507681]\n",
            " [ 0.35608669  0.30263962]\n",
            " [-1.71151344 -1.10196102]\n",
            " [ 0.27950891  0.25853913]\n",
            " [ 1.50475343  1.17362432]\n",
            " [ 0.50924226  0.426121  ]\n",
            " [ 0.50924226  0.44155617]]\n"
          ],
          "name": "stdout"
        }
      ]
    },
    {
      "cell_type": "code",
      "metadata": {
        "colab": {
          "base_uri": "https://localhost:8080/"
        },
        "id": "DH71-EUtbHp6",
        "outputId": "273cb7b9-5e92-433d-bc5e-b8c33fa24e94"
      },
      "source": [
        "from sklearn.neighbors import KNeighborsClassifier\n",
        "classifier = KNeighborsClassifier(n_neighbors = 5, metric = 'minkowski', p=2)\n",
        "classifier.fit(x_train, y_train)"
      ],
      "execution_count": 25,
      "outputs": [
        {
          "output_type": "execute_result",
          "data": {
            "text/plain": [
              "KNeighborsClassifier(algorithm='auto', leaf_size=30, metric='minkowski',\n",
              "                     metric_params=None, n_jobs=None, n_neighbors=5, p=2,\n",
              "                     weights='uniform')"
            ]
          },
          "metadata": {
            "tags": []
          },
          "execution_count": 25
        }
      ]
    },
    {
      "cell_type": "code",
      "metadata": {
        "id": "pQBKbG2Pb_8c"
      },
      "source": [
        "y_pred = classifier.predict(x_test)"
      ],
      "execution_count": 26,
      "outputs": []
    },
    {
      "cell_type": "code",
      "metadata": {
        "colab": {
          "base_uri": "https://localhost:8080/"
        },
        "id": "n4oZfhxkcGYK",
        "outputId": "ec575c58-a60a-47c7-90a8-e3be6e20de5b"
      },
      "source": [
        "from sklearn.metrics import confusion_matrix\n",
        "cm = confusion_matrix(y_test, y_pred)\n",
        "print(cm)"
      ],
      "execution_count": 27,
      "outputs": [
        {
          "output_type": "stream",
          "text": [
            "[[4 0]\n",
            " [2 8]]\n"
          ],
          "name": "stdout"
        }
      ]
    },
    {
      "cell_type": "code",
      "metadata": {
        "colab": {
          "base_uri": "https://localhost:8080/",
          "height": 349
        },
        "id": "SFVKxCQTchwj",
        "outputId": "084056a3-6b62-4552-8e00-48de4a4bf125"
      },
      "source": [
        "from matplotlib.colors import ListedColormap\n",
        "x_set, y_set = x_train, y_train\n",
        "x1, x2 = np.meshgrid(np.arange(start=x_set[:, 0].min()-1, stop=x_set[:, 0].max()+1, step=0.01),\n",
        "                     np.arange(start=x_set[:, 1].min()-1, stop=x_set[:, 1].max()+1, step=0.01))\n",
        "plt.contour(x1, x2, classifier.predict(np.array([x1.ravel(), x2.ravel()]).T).reshape(x1.shape),\n",
        "            alpha = 0.75, cmap = ListedColormap(('red', 'green')))\n",
        "plt.xlim(x1.min(), x1.max())\n",
        "plt.ylim(x2.min(), x2.max())\n",
        "for i, j,  in enumerate (np.unique(y_set)):\n",
        "  plt.scatter(x_set[y_set == j, 0], x_set[y_set == j, 1],\n",
        "              c = ListedColormap(('red', 'green'))(i), label = j)\n",
        "plt.title('Klasifikasi Data dengan K-NN (Data Training)')\n",
        "plt.xlabel('Nilai Rata-rata')\n",
        "plt.ylabel('Nilai SKM')\n",
        "plt.legend()\n",
        "plt.show()"
      ],
      "execution_count": 33,
      "outputs": [
        {
          "output_type": "stream",
          "text": [
            "*c* argument looks like a single numeric RGB or RGBA sequence, which should be avoided as value-mapping will have precedence in case its length matches with *x* & *y*.  Please use the *color* keyword-argument or provide a 2-D array with a single row if you intend to specify the same RGB or RGBA value for all points.\n",
            "*c* argument looks like a single numeric RGB or RGBA sequence, which should be avoided as value-mapping will have precedence in case its length matches with *x* & *y*.  Please use the *color* keyword-argument or provide a 2-D array with a single row if you intend to specify the same RGB or RGBA value for all points.\n"
          ],
          "name": "stderr"
        },
        {
          "output_type": "display_data",
          "data": {
            "image/png": "[encoded data removed]",
            "text/plain": [
              "<Figure size 432x288 with 1 Axes>"
            ]
          },
          "metadata": {
            "tags": [],
            "needs_background": "light"
          }
        }
      ]
    }
  ]
}