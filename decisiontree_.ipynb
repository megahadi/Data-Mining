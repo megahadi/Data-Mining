{
  "nbformat": 4,
  "nbformat_minor": 0,
  "metadata": {
    "colab": {
      "name": "decisiontree..ipynb",
      "provenance": [],
      "authorship_tag": "ABX9TyOYWIbN6TWUWL9zKFzWuHuX",
      "include_colab_link": true
    },
    "kernelspec": {
      "name": "python3",
      "display_name": "Python 3"
    },
    "language_info": {
      "name": "python"
    }
  },
  "cells": [
    {
      "cell_type": "markdown",
      "metadata": {
        "id": "view-in-github",
        "colab_type": "text"
      },
      "source": [
        "<a href=\"https://colab.research.google.com/github/megahadi/Data-Mining/blob/main/decisiontree_.ipynb\" target=\"_parent\"><img src=\"https://colab.research.google.com/assets/colab-badge.svg\" alt=\"Open In Colab\"/></a>"
      ]
    },
    {
      "cell_type": "code",
      "metadata": {
        "id": "eX0dks3VBQj2"
      },
      "source": [
        "import numpy as np\n",
        "import pandas as pd\n",
        "from sklearn import tree"
      ],
      "execution_count": 1,
      "outputs": []
    },
    {
      "cell_type": "code",
      "metadata": {
        "id": "pYaHP_PiBiXs"
      },
      "source": [
        "SKMDataset = pd.read_csv('nilai-rata-rata-hasil-survei-kepuasan-masyarakat..csv', delimiter=',', header=0) "
      ],
      "execution_count": 2,
      "outputs": []
    },
    {
      "cell_type": "code",
      "metadata": {
        "colab": {
          "base_uri": "https://localhost:8080/",
          "height": 204
        },
        "id": "BmTgXx8KBjwN",
        "outputId": "8bdbb352-5ddb-4ce1-93b2-ecebb94d0f2f"
      },
      "source": [
        "SKMDataset.head()"
      ],
      "execution_count": 3,
      "outputs": [
        {
          "output_type": "execute_result",
          "data": {
            "text/html": [
              "<div>\n",
              "<style scoped>\n",
              "    .dataframe tbody tr th:only-of-type {\n",
              "        vertical-align: middle;\n",
              "    }\n",
              "\n",
              "    .dataframe tbody tr th {\n",
              "        vertical-align: top;\n",
              "    }\n",
              "\n",
              "    .dataframe thead th {\n",
              "        text-align: right;\n",
              "    }\n",
              "</style>\n",
              "<table border=\"1\" class=\"dataframe\">\n",
              "  <thead>\n",
              "    <tr style=\"text-align: right;\">\n",
              "      <th></th>\n",
              "      <th>kelurahan</th>\n",
              "      <th>nilai_rata_rata</th>\n",
              "      <th>nilai__skm</th>\n",
              "      <th>mutu_pelayanan</th>\n",
              "      <th>keterangan</th>\n",
              "    </tr>\n",
              "  </thead>\n",
              "  <tbody>\n",
              "    <tr>\n",
              "      <th>0</th>\n",
              "      <td>Kayu Manis</td>\n",
              "      <td>3.62</td>\n",
              "      <td>90.57</td>\n",
              "      <td>1</td>\n",
              "      <td>SANGAT BAIK</td>\n",
              "    </tr>\n",
              "    <tr>\n",
              "      <th>1</th>\n",
              "      <td>Kebon Manggis</td>\n",
              "      <td>3.19</td>\n",
              "      <td>79.81</td>\n",
              "      <td>0</td>\n",
              "      <td>BAIK</td>\n",
              "    </tr>\n",
              "    <tr>\n",
              "      <th>2</th>\n",
              "      <td>Palmeriam</td>\n",
              "      <td>3.26</td>\n",
              "      <td>81.39</td>\n",
              "      <td>0</td>\n",
              "      <td>BAIK</td>\n",
              "    </tr>\n",
              "    <tr>\n",
              "      <th>3</th>\n",
              "      <td>Pisangan Baru</td>\n",
              "      <td>3.65</td>\n",
              "      <td>91.07</td>\n",
              "      <td>1</td>\n",
              "      <td>SANGAT BAIK</td>\n",
              "    </tr>\n",
              "    <tr>\n",
              "      <th>4</th>\n",
              "      <td>Utan Kayu Selatan</td>\n",
              "      <td>3.64</td>\n",
              "      <td>90.91</td>\n",
              "      <td>1</td>\n",
              "      <td>SANGAT BAIK</td>\n",
              "    </tr>\n",
              "  </tbody>\n",
              "</table>\n",
              "</div>"
            ],
            "text/plain": [
              "            kelurahan  nilai_rata_rata  nilai__skm  mutu_pelayanan   keterangan\n",
              "0          Kayu Manis             3.62       90.57               1  SANGAT BAIK\n",
              "1       Kebon Manggis             3.19       79.81               0         BAIK\n",
              "2           Palmeriam             3.26       81.39               0         BAIK\n",
              "3       Pisangan Baru             3.65       91.07               1  SANGAT BAIK\n",
              "4  Utan Kayu Selatan              3.64       90.91               1  SANGAT BAIK"
            ]
          },
          "metadata": {
            "tags": []
          },
          "execution_count": 3
        }
      ]
    },
    {
      "cell_type": "code",
      "metadata": {
        "id": "uLSv-ylwBkHL"
      },
      "source": [
        "SKMDataset[\"keterangan\"] = pd.factorize(SKMDataset.keterangan)[0]"
      ],
      "execution_count": 4,
      "outputs": []
    },
    {
      "cell_type": "code",
      "metadata": {
        "id": "O6_9j4QqBkJ3"
      },
      "source": [
        "SKMDataset = SKMDataset.drop(labels=\"kelurahan\", axis=1)"
      ],
      "execution_count": 5,
      "outputs": []
    },
    {
      "cell_type": "code",
      "metadata": {
        "id": "9-3vImw0BkMy"
      },
      "source": [
        "SKMDataset = SKMDataset.to_numpy()"
      ],
      "execution_count": 6,
      "outputs": []
    },
    {
      "cell_type": "code",
      "metadata": {
        "id": "_Z5z3bhXBkPj"
      },
      "source": [
        "dataTraining = np.concatenate((SKMDataset[0:40, :], SKMDataset[50:90, :]), axis=0)\n",
        "dataTesting = np.concatenate((SKMDataset[40:50, :], SKMDataset[90:100, :]), axis=0)"
      ],
      "execution_count": 7,
      "outputs": []
    },
    {
      "cell_type": "code",
      "metadata": {
        "id": "CXMlJH9tBkSX"
      },
      "source": [
        "inputTraining = dataTraining[:, 0:3]\n",
        "inputTesting = dataTesting[:, 0 :3]\n",
        "labelTraining = dataTraining[:, 3]\n",
        "labelTesting = dataTesting[:, 3]"
      ],
      "execution_count": 8,
      "outputs": []
    },
    {
      "cell_type": "code",
      "metadata": {
        "id": "7Nr9fnykBkVQ"
      },
      "source": [
        "model = tree.DecisionTreeClassifier()"
      ],
      "execution_count": 9,
      "outputs": []
    },
    {
      "cell_type": "code",
      "metadata": {
        "id": "uX7zEux2BkX7"
      },
      "source": [
        "model = model.fit(inputTraining, labelTraining)"
      ],
      "execution_count": 10,
      "outputs": []
    },
    {
      "cell_type": "code",
      "metadata": {
        "colab": {
          "base_uri": "https://localhost:8080/"
        },
        "id": "GJcBhfZxBka7",
        "outputId": "712224f1-3ddb-4b86-dd6e-a278816d3b17"
      },
      "source": [
        "hasilPrediksi = model.predict(inputTesting)\n",
        "print(\"Label Sebenarnya : \", labelTesting)\n",
        "print(\"Hasil Sebenarnya : \", hasilPrediksi)"
      ],
      "execution_count": 11,
      "outputs": [
        {
          "output_type": "stream",
          "text": [
            "Label Sebenarnya :  [2. 2. 2. 2. 2. 2. 2. 1. 2. 2.]\n",
            "Hasil Sebenarnya :  [2. 2. 2. 2. 2. 0. 2. 2. 2. 2.]\n"
          ],
          "name": "stdout"
        }
      ]
    },
    {
      "cell_type": "code",
      "metadata": {
        "colab": {
          "base_uri": "https://localhost:8080/"
        },
        "id": "JccyF1wWB3-K",
        "outputId": "af685ed7-5ff6-4872-9b27-4e7f3da6b3a2"
      },
      "source": [
        "prediksiBenar = (hasilPrediksi == labelTesting).sum()\n",
        "prediksiSalah = (hasilPrediksi != labelTesting).sum()\n",
        "print(\"Prediksi Benar : \", prediksiBenar, \"data\")\n",
        "print(\"Prediksi Salah : \", prediksiSalah, \"data\")\n",
        "print(\"Akurasi : \", prediksiBenar/(prediksiBenar+prediksiSalah) * 100, \"%\")"
      ],
      "execution_count": 12,
      "outputs": [
        {
          "output_type": "stream",
          "text": [
            "Prediksi Benar :  8 data\n",
            "Prediksi Salah :  2 data\n",
            "Akurasi :  80.0 %\n"
          ],
          "name": "stdout"
        }
      ]
    }
  ]
}